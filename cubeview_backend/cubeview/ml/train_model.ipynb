{
 "cells": [
  {
   "cell_type": "code",
   "execution_count": 3,
   "id": "7a602a24",
   "metadata": {},
   "outputs": [
    {
     "name": "stdout",
     "output_type": "stream",
     "text": [
      "✅ Model trained and saved to: models\\isolation_forest_cv.pkl\n"
     ]
    }
   ],
   "source": [
    "# Step 1: Import Libraries\n",
    "import pandas as pd\n",
    "import numpy as np\n",
    "from sklearn.ensemble import IsolationForest\n",
    "import joblib\n",
    "import os\n",
    "\n",
    "# Step 2: Simulate or Load Your Training Data\n",
    "# You can later replace this with data from PostgreSQL or a CSV export\n",
    "\n",
    "np.random.seed(42)\n",
    "\n",
    "# Normal null% and volume values\n",
    "null_percent = np.random.normal(loc=5, scale=2, size=90)\n",
    "null_anomalies = np.random.uniform(low=30, high=80, size=10)\n",
    "null_percent = np.concatenate([null_percent, null_anomalies])\n",
    "np.random.shuffle(null_percent)\n",
    "\n",
    "volume = np.random.normal(loc=1000, scale=50, size=90)\n",
    "volume_anomalies = np.random.uniform(low=100, high=300, size=10)\n",
    "volume = np.concatenate([volume, volume_anomalies])\n",
    "np.random.shuffle(volume)\n",
    "\n",
    "# Schema change: mostly 0, some 1\n",
    "schema_change = np.random.choice([0, 1], size=100, p=[0.9, 0.1])\n",
    "\n",
    "# Create DataFrame\n",
    "df = pd.DataFrame({\n",
    "    \"null_percent\": null_percent,\n",
    "    \"volume\": volume,\n",
    "    \"schema_change\": schema_change\n",
    "})\n",
    "\n",
    "# Step 3: Train Isolation Forest\n",
    "X = df[[\"null_percent\", \"volume\", \"schema_change\"]]\n",
    "model = IsolationForest(contamination=0.1, random_state=42)\n",
    "model.fit(X)\n",
    "\n",
    "# Step 4: Save Model to 'cv_ml/models/isolation_forest_cv.pkl'\n",
    "output_path = os.path.join(\"models\", \"isolation_forest_cv.pkl\")\n",
    "os.makedirs(os.path.dirname(output_path), exist_ok=True)\n",
    "joblib.dump(model, output_path)\n",
    "\n",
    "print(f\"✅ Model trained and saved to: {output_path}\")\n"
   ]
  },
  {
   "cell_type": "code",
   "execution_count": null,
   "id": "bf1609c1",
   "metadata": {},
   "outputs": [],
   "source": []
  },
  {
   "cell_type": "code",
   "execution_count": null,
   "id": "d7ea2da9",
   "metadata": {},
   "outputs": [],
   "source": []
  }
 ],
 "metadata": {
  "kernelspec": {
   "display_name": ".venv",
   "language": "python",
   "name": "python3"
  },
  "language_info": {
   "codemirror_mode": {
    "name": "ipython",
    "version": 3
   },
   "file_extension": ".py",
   "mimetype": "text/x-python",
   "name": "python",
   "nbconvert_exporter": "python",
   "pygments_lexer": "ipython3",
   "version": "3.13.5"
  }
 },
 "nbformat": 4,
 "nbformat_minor": 5
}
